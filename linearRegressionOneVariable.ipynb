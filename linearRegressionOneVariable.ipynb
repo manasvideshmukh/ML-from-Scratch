{
  "nbformat": 4,
  "nbformat_minor": 0,
  "metadata": {
    "colab": {
      "provenance": [],
      "authorship_tag": "ABX9TyM0V5yQ9mJ6E2Ex7MP96txI",
      "include_colab_link": true
    },
    "kernelspec": {
      "name": "python3",
      "display_name": "Python 3"
    },
    "language_info": {
      "name": "python"
    }
  },
  "cells": [
    {
      "cell_type": "markdown",
      "metadata": {
        "id": "view-in-github",
        "colab_type": "text"
      },
      "source": [
        "<a href=\"https://colab.research.google.com/github/manasvideshmukh/ML-from-Scratch/blob/main/linearRegressionOneVariable.ipynb\" target=\"_parent\"><img src=\"https://colab.research.google.com/assets/colab-badge.svg\" alt=\"Open In Colab\"/></a>"
      ]
    },
    {
      "cell_type": "code",
      "execution_count": 1,
      "metadata": {
        "id": "O8aJRxEFOvXW"
      },
      "outputs": [],
      "source": [
        "import numpy as np"
      ]
    },
    {
      "cell_type": "code",
      "source": [
        "import pandas as pd\n"
      ],
      "metadata": {
        "id": "SsJnXIbxPbL1"
      },
      "execution_count": 2,
      "outputs": []
    },
    {
      "cell_type": "code",
      "source": [
        "data = pd.read_csv('/content/Salary_dataset.csv')"
      ],
      "metadata": {
        "id": "YKoS2ikQPp7I"
      },
      "execution_count": 3,
      "outputs": []
    },
    {
      "cell_type": "code",
      "source": [
        "print(data.head())"
      ],
      "metadata": {
        "colab": {
          "base_uri": "https://localhost:8080/"
        },
        "id": "rgrhiBb3PzQq",
        "outputId": "9c7f4eda-c423-4658-c223-7b6528fe1a04"
      },
      "execution_count": 4,
      "outputs": [
        {
          "output_type": "stream",
          "name": "stdout",
          "text": [
            "   Unnamed: 0  YearsExperience   Salary\n",
            "0           0              1.2  39344.0\n",
            "1           1              1.4  46206.0\n",
            "2           2              1.6  37732.0\n",
            "3           3              2.1  43526.0\n",
            "4           4              2.3  39892.0\n"
          ]
        }
      ]
    },
    {
      "cell_type": "code",
      "source": [
        "print(data)"
      ],
      "metadata": {
        "colab": {
          "base_uri": "https://localhost:8080/"
        },
        "id": "YOL746v9Qr8K",
        "outputId": "8f5da1ca-a96e-48e4-fb4b-8a149308c5f9"
      },
      "execution_count": 5,
      "outputs": [
        {
          "output_type": "stream",
          "name": "stdout",
          "text": [
            "    Unnamed: 0  YearsExperience    Salary\n",
            "0            0              1.2   39344.0\n",
            "1            1              1.4   46206.0\n",
            "2            2              1.6   37732.0\n",
            "3            3              2.1   43526.0\n",
            "4            4              2.3   39892.0\n",
            "5            5              3.0   56643.0\n",
            "6            6              3.1   60151.0\n",
            "7            7              3.3   54446.0\n",
            "8            8              3.3   64446.0\n",
            "9            9              3.8   57190.0\n",
            "10          10              4.0   63219.0\n",
            "11          11              4.1   55795.0\n",
            "12          12              4.1   56958.0\n",
            "13          13              4.2   57082.0\n",
            "14          14              4.6   61112.0\n",
            "15          15              5.0   67939.0\n",
            "16          16              5.2   66030.0\n",
            "17          17              5.4   83089.0\n",
            "18          18              6.0   81364.0\n",
            "19          19              6.1   93941.0\n",
            "20          20              6.9   91739.0\n",
            "21          21              7.2   98274.0\n",
            "22          22              8.0  101303.0\n",
            "23          23              8.3  113813.0\n",
            "24          24              8.8  109432.0\n",
            "25          25              9.1  105583.0\n",
            "26          26              9.6  116970.0\n",
            "27          27              9.7  112636.0\n",
            "28          28             10.4  122392.0\n",
            "29          29             10.6  121873.0\n"
          ]
        }
      ]
    },
    {
      "cell_type": "code",
      "source": [
        " X = data['YearsExperience'].values\n",
        " Y = data['Salary'].values\n"
      ],
      "metadata": {
        "id": "M4WZXcHcQzRA"
      },
      "execution_count": 6,
      "outputs": []
    },
    {
      "cell_type": "code",
      "source": [
        "w = 10000\n",
        "b = 20000"
      ],
      "metadata": {
        "id": "QmIAASHxYH_z"
      },
      "execution_count": 13,
      "outputs": []
    },
    {
      "cell_type": "code",
      "source": [
        "def predict(X, w, b):\n",
        "  Y_pred = w * X + b\n",
        "  return Y_pred"
      ],
      "metadata": {
        "id": "up1MIjLYYbv7"
      },
      "execution_count": 14,
      "outputs": []
    },
    {
      "cell_type": "code",
      "source": [
        "for i in range(5):\n",
        "  print(f\"Input: {X[i]} -> Prediction: {predict(X[i], w, b)}\")"
      ],
      "metadata": {
        "colab": {
          "base_uri": "https://localhost:8080/"
        },
        "id": "btTtYNYrY9Px",
        "outputId": "35f99db3-86e3-4c7a-a881-86c9a37895fe"
      },
      "execution_count": 15,
      "outputs": [
        {
          "output_type": "stream",
          "name": "stdout",
          "text": [
            "Input: 1.2000000000000002 -> Prediction: 32000.0\n",
            "Input: 1.4 -> Prediction: 34000.0\n",
            "Input: 1.6 -> Prediction: 36000.0\n",
            "Input: 2.1 -> Prediction: 41000.0\n",
            "Input: 2.3000000000000003 -> Prediction: 43000.0\n"
          ]
        }
      ]
    }
  ]
}